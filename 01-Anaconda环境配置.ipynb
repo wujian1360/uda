{
 "cells": [
  {
   "cell_type": "markdown",
   "metadata": {},
   "source": [
    "# Anaconda\n",
    "- Anaconda 实际上是一个软件发行版，它附带了 conda、Python 和 150 多个科学包及其依赖项。应用程序 conda 是包和环境管理器。Anaconda 的下载文件比较大（约 500 MB），因为它附带了 Python 中最常用的数据科学包。如果只需要某些包，或者需要节省带宽或存储空间，也可以使用 Miniconda 这个较小的发行版（仅包含 conda 和 Python）。但你仍可以使用 conda 来安装任何可用的包，只是它自身没有附带这些包而已。\n",
    "- conda 只能通过命令行来使用。可以参考面向 Windows 的命令提示符教程，或者学习面向 OSX/Linux 用户的 Linux 命令行基础知识课程。\n",
    "- https://www.lynda.com/-tutorials/Windows-command-line-basics/497312/513424-4.html\n",
    "- 包管理器用于在计算机上安装库和其他软件。\n",
    "- 你可能已经熟悉 pip，它是 Python 库的默认包管理器。conda 与 pip 相似，不同之处是可用的包以数据科学包为主，而 pip 适合一般用途。\n",
    "- 与此同时，conda 并非像 pip 那样专门适用于 Python，它也可以安装非 Python 的包。它是支持任何软件的包管理器。也就是说，虽然并非所有的 Python 库都能通过 Anaconda 发行版和 conda 获得，但同时它也支持非 Python 库的获得。在使用 conda 的同时，你仍可以使用 pip 来安装包。\n",
    "- Conda 安装了预编译的包。例如，Anaconda 发行版附带了使用 MKL 库编译的 Numpy、Scipy 和 Scikit-learn，从而加快了各种数学运算的速度。这些包由发行版的贡献者维护，这意味着它们通常滞后于最新版本。但是，由于有人需要利用这些包来进行系统构建，因此它们往往更为稳定，而且也更便于你使用。\n",
    "- 除了管理包之外，conda 还是虚拟环境管理器。它类似于另外两个很流行的环境管理器，即 virtualenv 和 pyenv。\n",
    "- 你可以使用conda环境管理器分隔不同项目的包。你常常要使用依赖于某个库的不同版本的代码。例如，你的代码可能使用了 Numpy 中的新功能，或者使用了已删除的旧功能。实际上，不可能同时安装两个 Numpy 版本。你要做的应该是，为每个 Numpy 版本创建一个环境，然后在项目的对应环境中工作。\n",
    "\n",
    "- 在应对 Python 2 和 Python 3 时，此问题也会常常发生。你可能会使用在 Python 3 中不能运行的旧代码，以及在 Python 2 中不能运行的新代码。同时安装两个版本可能会造成许多混乱和错误，而创建独立的环境会好很多。\n",
    "\n",
    "- 你也可以将环境中的包列表导出为文件，然后将该文件与代码打包在一起。这能让其他人轻松加载代码的所有依赖项。pip 提供了类似的功能，即 pip freeze > requirements.txt。\n",
    "\n",
    "# 安装\n",
    "- Anaconda 可用于 Windows、Mac OS X 和 Linux。可以在 https://www.anaconda.com/download/ 上找到安装程序和安装说明。如果计算机上已经安装了 Python，这不会有任何影响。实际上，脚本和程序使用的默认 Python 是 Anaconda 附带的 Python。\n",
    "- https://mirrors.tuna.tsinghua.edu.cn/anaconda/archive/?C=N&O=D 这个是清华的下载包很稳定\n",
    "- 完成安装后，会自动进入默认的 conda 环境，而且所有包均已安装完毕，如下面所示。可以在终端或命令提示符中键入 conda list，以查看你安装的内容。\n",
    "- 在 Windows 上，会随 Anaconda 一起安装一批应用程序：\n",
    "  - Anaconda Navigator，它是用于管理环境和包的 GUI\n",
    "  - Anaconda Prompt 终端，它可让你使用命令行界面来管理环境和包\n",
    "  - Spyder，它是面向科学开发的 IDE\n",
    "- 为了避免报错，我推荐在默认环境下更新所有的包。打开 Anaconda Prompt （或者 Mac 下的终端），键入：\n",
    "  > conda upgrade --all\n",
    "- 并在提示是否更新的时候输入 y（Yes）以便让更新继续。初次安装下的软件包版本一般都比较老旧，因此提前更新可以避免未来不必要的问题。\n",
    "- 在本课的余下部分，我会要求你在终端中使用命令。我强烈建议你以这种方式开始使用 Anaconda，之后再根据需要使用 GUI。\n",
    "\n",
    "# 管理包\n",
    "- 安装了 Anaconda 之后。要安装包，请在终端中键入 conda install package_name。\n",
    "  > 例如，要安装 numpy，请键入 conda install numpy。\n",
    "  > 你还可以同时安装多个包。类似 conda install numpy scipy pandas 的命令会同时安装所有这些包。\n",
    "  > 还可以通过添加版本号（例如 conda install numpy=1.10）来指定所需的包版本。\n",
    "- Conda 还会自动为你安装依赖项。例\n",
    "  > 如，scipy 依赖于 numpy，因为它使用并需要 numpy。\n",
    "  > 如果你只安装 scipy (conda install scipy)，则 conda 还会安装 numpy（如果尚未安装的话）。\n",
    "  > 要卸载包，请使用 conda remove package_name。\n",
    "  > 要更新包，请使用 conda update package_name。\n",
    "  > 想更新环境中的所有包，请使用 conda update --all。\n",
    "  > 要列出已安装的包，请使用前面提过的 conda list。\n",
    "  > 如果不知道要找的包的确切名称，可以尝试使用 conda search search_term 进行搜索。\n",
    "    - 例如，我知道我想安装 Beautiful Soup，但我不清楚确切的包名称。\n",
    "    - 因此，我尝试执行 conda search beautifulsoup。\n",
    "\n",
    "# 管理环境\n",
    "- 如前所述，你可以使用 conda 创建环境以隔离项目。\n",
    "- 要创建环境，请在终端中使用 conda create -n env_name list of packages。\n",
    "  - 在这里，-n env_name 设置环境的名称（-n 是指名称），\n",
    "  - 而 list of packages 是要安装在环境中的包的列表。\n",
    "  - 例如，要创建名为 my_env 的环境并在其中安装 numpy，请键入 conda create -n my_env numpy。\n",
    "- 创建环境时，可以指定要安装在环境中的 Python 版本。这在你同时使用 Python 2.x 和 Python 3.x 中的代码时很有用。\n",
    "  - 要创建具有特定 Python 版本的环境，请键入类似于 conda create -n py3 python=3 或 conda create -n py2 python=2 的命令。\n",
    "  - 实际上，我在我的个人计算机上创建了这两个环境。我将它们用作与任何特定项目均无关的通用环境，以处理普通的工作（可轻松使用每个 Python 版本）。   - 这些命令将分别安装 Python 3 和 Python 2 的最新版本。要安装特定版本（例如 Python 3.3），请使用 conda create -n py python=3.3。\n",
    "\n",
    "# 进入环境\n",
    "- 创建了环境后，\n",
    "  - 在 OSX/Linux 上使用 source activate my_env 进入环境。\n",
    "  - 在 Windows 上，请使用 activate my_env。\n",
    "- 进入环境后，你会在终端提示符中看到环境名称，它类似于 (my_env) ~ $。\n",
    "  - 环境中只安装了几个默认的包，以及你在创建它时安装的包。\n",
    "  - 你可以使用 conda list 检查这一点。在环境中安装包的命令与前面一样：conda install package_name。\n",
    "  - 不过，这次你安装的特定包仅在你进入环境后才可用。\n",
    "  - 要离开环境，请键入 source deactivate（在 OSX/Linux 上）。在 Windows 上，请使用 deactivate。"
   ]
  },
  {
   "cell_type": "markdown",
   "metadata": {},
   "source": [
    "# 保存和加载环境\n",
    "- 共享环境这项功能确实很有用，它能让其他人安装你的代码中使用的所有包，并确保这些包的版本正确。\n",
    "- 你可以使用 conda env export > environment.yaml 将包保存为 YAML。\n",
    "- 命令的第一部分 conda env export 用于输出环境中的所有包的名称（包括 Python 版本）。\n",
    "\n",
    "- 导出命令的第二部分 > environment.yaml 将导出的文本写入到 YAML 文件 environment.yaml 中。\n",
    "- 现在可以共享此文件，而且其他人能够用于创建和你项目相同的环境。\n",
    "\n",
    "- 要通过环境文件创建环境，请使用 conda env create -f environment.yaml。\n",
    "- 这会创建一个新环境，而且它具有同样的在 environment.yaml 中列出的库。\n",
    "\n",
    "# 列出环境\n",
    "- 使用 conda env list 列出你创建的所有环境。\n",
    "- 而且你当前所在环境的旁边会有一个星号。\n",
    "- 默认的环境（即当你不在选定环境中时使用的环境）名为 root。\n",
    "\n",
    "# 删除环境\n",
    "- 可以使用 conda env remove -n env_name 删除指定的环境（在这里名为 env_name）。"
   ]
  },
  {
   "cell_type": "markdown",
   "metadata": {},
   "source": [
    "# 最佳做法\n",
    "### 使用环境\n",
    "- 我的 Python 2 和 Python 3 具有独立的环境。我使用了 conda create -n py2 python=2 和 conda create -n py3 python=3 创建两个独立的环境，即 py2 和 py3。现在，我的每个 Python 版本都有一个通用环境。在所有这些环境中，我都安装了大多数常用的标准数据科学包（numpy、scipy、pandas 等）。\n",
    "\n",
    "- 我还发现，为我从事的每个项目创建环境很有用。这对于与数据不相关的项目（例如使用 Flask 开发的 Web 应用）也很有用。例如，我为我的个人博客（使用 Pelican）创建了一个环境。\n",
    "### 共享环境\n",
    "- 在 GitHub 上共享代码时，最好同样创建环境文件并将其包括在代码库中。这能让其他人更轻松地安装你的代码的所有依赖项。\n",
    "- 对于不使用 conda 的用户，我通常还会使用 pip freeze将一个 pip requirements.txt 文件导出并包括在其中。https://pip.pypa.io/en/stable/reference/pip_freeze/"
   ]
  },
  {
   "cell_type": "code",
   "execution_count": null,
   "metadata": {},
   "outputs": [],
   "source": []
  }
 ],
 "metadata": {
  "kernelspec": {
   "display_name": "Python 3",
   "language": "python",
   "name": "python3"
  },
  "language_info": {
   "codemirror_mode": {
    "name": "ipython",
    "version": 3
   },
   "file_extension": ".py",
   "mimetype": "text/x-python",
   "name": "python",
   "nbconvert_exporter": "python",
   "pygments_lexer": "ipython3",
   "version": "3.6.5"
  }
 },
 "nbformat": 4,
 "nbformat_minor": 2
}
