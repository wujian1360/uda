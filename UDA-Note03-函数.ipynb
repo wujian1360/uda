{
 "cells": [
  {
   "cell_type": "markdown",
   "metadata": {},
   "source": [
    "# <center>函数</center>\n",
    "- 函数用来封装代码\n",
    "## 默认参数\n",
    "- 默认参数\n",
    "    - 我们可以向函数中添加默认参数，以便为在函数调用中指定的参数提供默认值"
   ]
  },
  {
   "cell_type": "code",
   "execution_count": null,
   "metadata": {},
   "outputs": [],
   "source": [
    "def cylinder_volume(height, radius=5):\n",
    "    pi = 3.14159\n",
    "    return height * pi * radius ** 2"
   ]
  },
  {
   "cell_type": "code",
   "execution_count": 1,
   "metadata": {},
   "outputs": [
    {
     "name": "stdout",
     "output_type": "stream",
     "text": [
      "expected result: 10, actual result: 10.0\n",
      "expected result: 7123.6902801, actual result: 7123.690280065897\n"
     ]
    }
   ],
   "source": [
    "# 人口密度函数\n",
    "# write your function here\n",
    "def population_density(population, land_area):\n",
    "    return population / land_area\n",
    "\n",
    "test1 = population_density(10, 1)\n",
    "expected_result1 = 10\n",
    "print(\"expected result: {}, actual result: {}\".format(expected_result1, test1))\n",
    "\n",
    "test2 = population_density(864816, 121.4)\n",
    "expected_result2 = 7123.6902801\n",
    "print(\"expected result: {}, actual result: {}\".format(expected_result2, test2))"
   ]
  },
  {
   "cell_type": "code",
   "execution_count": 6,
   "metadata": {},
   "outputs": [
    {
     "name": "stdout",
     "output_type": "stream",
     "text": [
      "714 week(s) and 6 day(s)\n"
     ]
    }
   ],
   "source": [
    "def readable_timedelta(days):\n",
    "    return \"{} week(s) and {} day(s)\".format(days//7, days%7)\n",
    "print(readable_timedelta(5004))"
   ]
  },
  {
   "cell_type": "markdown",
   "metadata": {},
   "source": [
    "## 变量作用域\n",
    "- 变量作用域是指可以在程序的哪个部分引用或使用某个变量。\n",
    "- 建议将变量定义在所需的最小作用域内。虽然函数_可以_引用在更大的作用域内定义的变量，但是通常不建议这么做，因为如果程序有很多变量，你可能不知道你定义了什么变量。\n",
    "\n",
    "### Python 不允许函数修改不在函数作用域内的变量，但这个原则仅适用于整数和字符串。\n",
    "\n",
    "#### global 关键字\n",
    "    - 实例修改全局变量 num\n",
    "    \n",
    "#### nonlocal 关键字\n",
    "    - 如果要修改嵌套作用域（enclosing 作用域，外层非全局作用域）中的变量则需要 nonlocal 关键字"
   ]
  },
  {
   "cell_type": "code",
   "execution_count": 3,
   "metadata": {},
   "outputs": [
    {
     "name": "stdout",
     "output_type": "stream",
     "text": [
      "12\n",
      "global\n",
      "nonlocal\n",
      "local\n"
     ]
    }
   ],
   "source": [
    "scope = 'global'\n",
    "\n",
    "def scope_test():\n",
    "    p = 'nonlocal'\n",
    "    \n",
    "    global scope\n",
    "    print(scope)\n",
    "    \n",
    "    def func():\n",
    "        nonlocal p\n",
    "        print(p)\n",
    "    func()\n",
    "    \n",
    "    scope = 'local'\n",
    "    print(scope)\n",
    "\n",
    "scope_test()"
   ]
  },
  {
   "cell_type": "markdown",
   "metadata": {},
   "source": [
    "### javascript和python函数中变量作用域的区别\n",
    "- 1.js中的函数变量必须使用关键字var进行声明，否则默认就归属到全局作用域，而python的函数变量默认就是函数域内的作用域。\n",
    "- 2.在python的函数如要使用全局变量是要用关键字global来进行声明的，js不需要。\n",
    "- 3.python和js解析变量的方式不一样，如下例子代码\n",
    "        scope.js\n",
    "        =================================\n",
    "        scope = 'global'\n",
    "        function scope_test(){\n",
    "        console.log(scope);\n",
    "        var scope = 'local';\n",
    "        console.log(scope);\n",
    "        }\n",
    "\n",
    "        这个例子会输出\n",
    "        'undefined'\n",
    "        \n",
    "- 因为在js的函数作用域中，所有的变量，包括函数中块内的变量（也就是{}包封的变量），都会提前移动到函数的最开始进行声明。\n",
    "- 也就是该代码等价于\n",
    "        scope.js\n",
    "        =================================\n",
    "        function scope_test_equal(){\n",
    "        var scope;\n",
    "        console.log(scope);\n",
    "        var scope='local';\n",
    "        console.log(scope);\n",
    "        }\n",
    "- 所以对于js的代码一定要上来将所有的变量进行声明，（如果有条件最好是进行初始化）\n",
    "- 但是python的解析方式就不同了，python不会将变量的声明进行提前，\n",
    "- 同样类似逻辑的代码，如果直接使用全局变量，python会认为该变量未定义，如下例子代码\n",
    "- 执行该python脚本，在执行第3行代码的时候会报错，因为在作用域中scope既没有提前声明是一个全局变量，也没有提前定义一个临时变量，所以直接就变量未定义，抛出异常。"
   ]
  },
  {
   "cell_type": "code",
   "execution_count": 26,
   "metadata": {},
   "outputs": [
    {
     "ename": "UnboundLocalError",
     "evalue": "local variable 'scope' referenced before assignment",
     "output_type": "error",
     "traceback": [
      "\u001b[1;31m---------------------------------------------------------------------------\u001b[0m",
      "\u001b[1;31mUnboundLocalError\u001b[0m                         Traceback (most recent call last)",
      "\u001b[1;32m<ipython-input-26-53de76c15dd1>\u001b[0m in \u001b[0;36m<module>\u001b[1;34m\u001b[0m\n\u001b[0;32m      4\u001b[0m     \u001b[0mscope\u001b[0m \u001b[1;33m=\u001b[0m \u001b[1;34m'local'\u001b[0m\u001b[1;31m# 这里尝试修改全局变量就会报错了 UnboundLocalError\u001b[0m\u001b[1;33m\u001b[0m\u001b[1;33m\u001b[0m\u001b[0m\n\u001b[0;32m      5\u001b[0m     \u001b[0mprint\u001b[0m\u001b[1;33m(\u001b[0m\u001b[0mscope\u001b[0m\u001b[1;33m)\u001b[0m\u001b[1;33m\u001b[0m\u001b[1;33m\u001b[0m\u001b[0m\n\u001b[1;32m----> 6\u001b[1;33m \u001b[0mscope_test\u001b[0m\u001b[1;33m(\u001b[0m\u001b[1;33m)\u001b[0m\u001b[1;33m\u001b[0m\u001b[1;33m\u001b[0m\u001b[0m\n\u001b[0m",
      "\u001b[1;32m<ipython-input-26-53de76c15dd1>\u001b[0m in \u001b[0;36mscope_test\u001b[1;34m()\u001b[0m\n\u001b[0;32m      1\u001b[0m \u001b[0mscope\u001b[0m \u001b[1;33m=\u001b[0m \u001b[1;34m'global'\u001b[0m\u001b[1;33m\u001b[0m\u001b[1;33m\u001b[0m\u001b[0m\n\u001b[0;32m      2\u001b[0m \u001b[1;32mdef\u001b[0m \u001b[0mscope_test\u001b[0m\u001b[1;33m(\u001b[0m\u001b[1;33m)\u001b[0m\u001b[1;33m:\u001b[0m\u001b[1;33m\u001b[0m\u001b[1;33m\u001b[0m\u001b[0m\n\u001b[1;32m----> 3\u001b[1;33m     \u001b[0mprint\u001b[0m\u001b[1;33m(\u001b[0m\u001b[0mscope\u001b[0m\u001b[1;33m)\u001b[0m\u001b[1;31m# 虽然是错误的用法，但仅限于访问。\u001b[0m\u001b[1;33m\u001b[0m\u001b[1;33m\u001b[0m\u001b[0m\n\u001b[0m\u001b[0;32m      4\u001b[0m     \u001b[0mscope\u001b[0m \u001b[1;33m=\u001b[0m \u001b[1;34m'local'\u001b[0m\u001b[1;31m# 这里尝试修改全局变量就会报错了 UnboundLocalError\u001b[0m\u001b[1;33m\u001b[0m\u001b[1;33m\u001b[0m\u001b[0m\n\u001b[0;32m      5\u001b[0m     \u001b[0mprint\u001b[0m\u001b[1;33m(\u001b[0m\u001b[0mscope\u001b[0m\u001b[1;33m)\u001b[0m\u001b[1;33m\u001b[0m\u001b[1;33m\u001b[0m\u001b[0m\n",
      "\u001b[1;31mUnboundLocalError\u001b[0m: local variable 'scope' referenced before assignment"
     ]
    }
   ],
   "source": [
    "scope = 'global'\n",
    "def scope_test():\n",
    "    print(scope)# 虽然是错误的用法，但仅限于访问。\n",
    "    scope = 'local'# 这里尝试修改全局变量就会报错了 UnboundLocalError\n",
    "    print(scope)\n",
    "scope_test()"
   ]
  },
  {
   "cell_type": "markdown",
   "metadata": {},
   "source": [
    "- 但是如果在第2行的后面插入global scope，则会将scope作为全局变量来进行操作，如下代码全局变量scope也会被修改为'local'"
   ]
  },
  {
   "cell_type": "code",
   "execution_count": 16,
   "metadata": {},
   "outputs": [
    {
     "name": "stdout",
     "output_type": "stream",
     "text": [
      "global\n",
      "local\n"
     ]
    }
   ],
   "source": [
    "scope = 'global'\n",
    "def scope_test():\n",
    "    global scope\n",
    "    print(scope)\n",
    "    scope = 'local'\n",
    "    print(scope)\n",
    "scope_test()"
   ]
  },
  {
   "cell_type": "code",
   "execution_count": 27,
   "metadata": {},
   "outputs": [
    {
     "name": "stdout",
     "output_type": "stream",
     "text": [
      "local\n"
     ]
    }
   ],
   "source": [
    "scope = 'global'\n",
    "def scope_test():\n",
    "    a = scope # 既然可以访问，那也可以赋值后再修改\n",
    "    a = 'local'\n",
    "    print(a)\n",
    "scope_test()"
   ]
  },
  {
   "cell_type": "markdown",
   "metadata": {},
   "source": [
    "- 所以不同的脚本解释器就决定了不同的处理方式，\n",
    "- 总而言之，在编写js代码的时候，请一定将变量放到最前头，\n",
    "- 而编写python代码的时候，请先声明（或使用全局声明之后）在使用该变量，这样就不容易出现问题了。"
   ]
  },
  {
   "cell_type": "markdown",
   "metadata": {},
   "source": [
    "## Python 不允许函数修改不在函数作用域内的变量。\n",
    "### 但是上面的原则仅适用于整数和字符串，列表、字典、集合、类中可以在子程序（子函数）中通过修改局部变量达到修改全局变量的目的。"
   ]
  },
  {
   "cell_type": "code",
   "execution_count": 29,
   "metadata": {},
   "outputs": [
    {
     "name": "stdout",
     "output_type": "stream",
     "text": [
      "[99, 2, 3, 4, 5, 6]\n"
     ]
    }
   ],
   "source": [
    "l = [1,2,3,4,5]\n",
    "def configer():\n",
    "    l.append(6) # 抽象类型数据可以访问全局\n",
    "    l[0] = 99\n",
    "    print(l)\n",
    "configer()"
   ]
  },
  {
   "cell_type": "markdown",
   "metadata": {},
   "source": [
    "## 编写文档字符串"
   ]
  },
  {
   "cell_type": "code",
   "execution_count": 30,
   "metadata": {},
   "outputs": [],
   "source": [
    "def readable_timedelta(days):\n",
    "    ''' This is a function that returns the number of weeks and days\n",
    "    Input: decimal integer total number of days\n",
    "    Output: a string in the format \"x week(s) and y day(s)\"\n",
    "    '''\n",
    "\n",
    "    weeks = days // 7\n",
    "    remainder = days % 7\n",
    "    return \"{} week(s) and {} day(s)\".format(weeks, remainder)"
   ]
  },
  {
   "cell_type": "markdown",
   "metadata": {},
   "source": [
    "# Lambda 表达式\n",
    "- lambda表达式可以用来创建匿名函数\n",
    "- lambda表达式适合创建一次性函数\n",
    "- lambda表达式可以方便的作为参数，供高阶函数 或 需要函数参数的函数来使用。\n",
    "- lambda表达式不适合复杂的函数，非常适合简短的函数。\n",
    "            double = lambda x, y: x * y\n",
    "            \n",
    "### map() 是一个高阶内置函数\n",
    "- 接受函数和可迭代对象作为参数输入，\n",
    "- 返回一个将该函数应用到可迭代对象的每个元素的迭代器。"
   ]
  },
  {
   "cell_type": "code",
   "execution_count": 39,
   "metadata": {},
   "outputs": [
    {
     "name": "stdout",
     "output_type": "stream",
     "text": [
      "[57.0, 58.2, 50.6, 27.2]\n"
     ]
    }
   ],
   "source": [
    "numbers = [\n",
    "              [34, 63, 88, 71, 29],\n",
    "              [90, 78, 51, 27, 45],\n",
    "              [63, 37, 85, 46, 22],\n",
    "              [51, 22, 34, 11, 18]\n",
    "           ]\n",
    "\n",
    "mean = lambda num_list:sum(num_list) / len(num_list)\n",
    "\n",
    "averages = list(map(mean, numbers))\n",
    "print(averages)"
   ]
  },
  {
   "cell_type": "markdown",
   "metadata": {},
   "source": [
    "### Filter() 是一个高阶内置函数\n",
    "- filter() 接收函数和可迭代对象作为输入\n",
    "- 返回一个有条件删选过的迭代器。\n",
    "- 使用输入的函数对可迭代对象进行筛选\n"
   ]
  },
  {
   "cell_type": "code",
   "execution_count": 42,
   "metadata": {},
   "outputs": [
    {
     "name": "stdout",
     "output_type": "stream",
     "text": [
      "['Chicago', 'Denver', 'Boston']\n"
     ]
    }
   ],
   "source": [
    "cities = [\"New York City\", \"Los Angeles\", \"Chicago\", \"Mountain View\", \"Denver\", \"Boston\"]\n",
    "\n",
    "is_short = lambda name: len(name) < 10\n",
    "short_cities = list(filter(is_short, cities))\n",
    "print(short_cities)"
   ]
  },
  {
   "cell_type": "markdown",
   "metadata": {},
   "source": [
    "\n",
    "\n",
    "\n",
    "\n",
    "\n",
    "\n",
    "# 迭代器和生成器\n",
    "### 可迭代对象：是每次可以返回一个元素的对象，如列表\n",
    "### 可以返回迭代器的内置函数：\n",
    "        - map()、Filter() 和enumerate()一样也是返回迭代器的内置函数 \n",
    "### 迭代器：是对象\n",
    "        - 是每次可以返回一个对象元素的对象，例如返回一个列表。\n",
    "        - 是一种表示数据流的对象，列表不是迭代器，不是数据流\n",
    "### 生成器：是函数\n",
    "        - 使用函数来创建迭代器的简单方式，但不是唯一创建迭代器的方式。比如range()生成器\n",
    "        - yield 是将生成器与普通函数区分开的依据\n",
    "        - 也可以使用类定义迭代器\n",
    "        \n",
    "        \n",
    "        - 生成器是构建迭代器的 “懒惰” 方式。\n",
    "               - 当内存不够存储完整实现的列表时，\n",
    "               - 或者计算每个列表元素的代价很高，你希望尽量推迟计算时，就可以使用生成器。\n",
    "               - 但是这些元素只能遍历一次。\n",
    "        - 另一种解释\n",
    "               - 由于使用生成器是一次处理一个数据，在内存和存储的需求上会比使用list方式直接全部生成再存储节省很多资源。\n",
    "               - 由此区别，在处理大量数据时，经常使用生成器初步处理数据后，再进行长期存储，而不是使用 list。\n",
    "               - 因为无论使用生成器还是 list，都是使用过就要丢弃的临时数据。既然功能和结果一样，那就不如用生成器。\n",
    "               - 但是生成器也有自己的局限，它产生的数据不能回溯，不像list可以任意选择。\n",
    "\n",
    "        - 生成器 ==遍历==>   可迭代对象(list\\dict...)   ===高阶函数（函数，可迭代对象==>   迭代器   ==类型转换==>   可迭代对象"
   ]
  },
  {
   "cell_type": "code",
   "execution_count": 5,
   "metadata": {},
   "outputs": [
    {
     "name": "stdout",
     "output_type": "stream",
     "text": [
      "[0, 1, 2, 3, 4]\n",
      "[0, 4, 8, 12, 16]\n",
      "<map object at 0x0000000004FFF048>\n",
      "<map object at 0x0000000004FFF048>\n",
      "<map object at 0x0000000004FFF048>\n",
      "<map object at 0x0000000004FFF048>\n"
     ]
    }
   ],
   "source": [
    "# 使用rangge生成器创建可迭代对象\n",
    "mylist = [i for i in range(5)]\n",
    "print(mylist)\n",
    "\n",
    "# 使用可迭代对象和函数生成迭代器\n",
    "# my_iter为map类型的object，是迭代器\n",
    "def plus1(i):return i *4\n",
    "my_iter = map(plus1, mylist)\n",
    "\n",
    "#迭代器可以被转换成任何可迭代对象\n",
    "print(list(my_iter))\n"
   ]
  },
  {
   "cell_type": "markdown",
   "metadata": {},
   "source": [
    "### yield 关键字 :\n",
    "- 使函数一次返回一个值，而且每次调用的时候都从停下的位置继续\n",
    "- yield 是将生成器与普通函数区分开的依据"
   ]
  },
  {
   "cell_type": "code",
   "execution_count": 42,
   "metadata": {},
   "outputs": [
    {
     "name": "stdout",
     "output_type": "stream",
     "text": [
      "0\n",
      "1\n",
      "2\n",
      "0\n",
      "1\n",
      "2\n",
      "(0, 1, 2, 3, 4)\n"
     ]
    }
   ],
   "source": [
    "def my_range(x):\n",
    "    i = 0\n",
    "    while i < x:\n",
    "        yield i\n",
    "        i += 1\n",
    "\n",
    "for i in my_range(3):\n",
    "    print(i)\n",
    "    \n",
    "print(tuple(my_range(5)))"
   ]
  },
  {
   "cell_type": "code",
   "execution_count": 29,
   "metadata": {},
   "outputs": [
    {
     "name": "stdout",
     "output_type": "stream",
     "text": [
      "Lesson 1: Why Python Programming\n",
      "Lesson 2: Data Types and Operators\n",
      "Lesson 3: Control Flow\n",
      "Lesson 4: Functions\n",
      "Lesson 5: Scripting\n"
     ]
    }
   ],
   "source": [
    "lessons = [\"Why Python Programming\", \"Data Types and Operators\", \"Control Flow\", \"Functions\", \"Scripting\"]\n",
    "\n",
    "def my_enumerate(iterable, start=0):\n",
    "    for i in iterable:\n",
    "        yield start, i\n",
    "        start += 1\n",
    "\n",
    "\n",
    "for i, lesson in my_enumerate(lessons, 1):\n",
    "    print(\"Lesson {}: {}\".format(i, lesson))"
   ]
  },
  {
   "cell_type": "code",
   "execution_count": 41,
   "metadata": {},
   "outputs": [
    {
     "name": "stdout",
     "output_type": "stream",
     "text": [
      "[0, 1, 2, 3]\n",
      "[4, 5, 6, 7]\n",
      "[8, 9, 10, 11]\n",
      "[12, 13, 14, 15]\n",
      "[16, 17, 18, 19]\n",
      "[20, 21, 22, 23]\n",
      "[24]\n"
     ]
    }
   ],
   "source": [
    "'''Chunker\n",
    "如果可迭代对象太大，无法完整地存储在内存中（例如处理大型文件时），每次能够使用一部分很有用。\n",
    "实现一个生成器函数 chunker，接受一个可迭代对象并每次生成指定大小的部分数据。\n",
    "\n",
    "# 遍历iterable，从0-25，步长4\n",
    "# 一次返回iterable的一部分[从i 到 i+size]\n",
    "'''\n",
    "\n",
    "\n",
    "def chunker(iterable, size):\n",
    "    for i in range(0, len(iterable), size):\n",
    "        yield iterable[i : i+size]\n",
    "\n",
    "for chunk in chunker(range(25), 4):\n",
    "    print(list(chunk))"
   ]
  },
  {
   "cell_type": "code",
   "execution_count": null,
   "metadata": {},
   "outputs": [],
   "source": []
  }
 ],
 "metadata": {
  "kernelspec": {
   "display_name": "Python 3",
   "language": "python",
   "name": "python3"
  },
  "language_info": {
   "codemirror_mode": {
    "name": "ipython",
    "version": 3
   },
   "file_extension": ".py",
   "mimetype": "text/x-python",
   "name": "python",
   "nbconvert_exporter": "python",
   "pygments_lexer": "ipython3",
   "version": "3.6.7"
  }
 },
 "nbformat": 4,
 "nbformat_minor": 2
}
