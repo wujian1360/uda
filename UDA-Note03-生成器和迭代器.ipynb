{
 "cells": [
  {
   "cell_type": "markdown",
   "metadata": {},
   "source": [
    "# 生成器 generator\n",
    "\n",
    "- 使用一个超大列表时，受到内存限制，会造成存储空间的占用浪费\n",
    "- 所以，需要一种一边循环一遍计算的机制，成为生成器，generator\n",
    "- 创建一个generator的方法：\n",
    "    - 把列表生成式的[] 改为()即可"
   ]
  },
  {
   "cell_type": "code",
   "execution_count": 34,
   "metadata": {},
   "outputs": [
    {
     "name": "stdout",
     "output_type": "stream",
     "text": [
      "<generator object <genexpr> at 0x000000000547FA40>\n"
     ]
    }
   ],
   "source": [
    "# L = [x * x for x in range(10)] 列表生成式\n",
    "g = (x * x for x in range(10))\n",
    "print(g)"
   ]
  },
  {
   "cell_type": "markdown",
   "metadata": {},
   "source": [
    "- 创建L和g的区别仅在于最外层的[]和()，L是一个list，而g是一个generator。\n",
    "- list可以打印，但是generator怎么打印呢？next(g)函数"
   ]
  },
  {
   "cell_type": "code",
   "execution_count": 35,
   "metadata": {},
   "outputs": [
    {
     "name": "stdout",
     "output_type": "stream",
     "text": [
      "0\n",
      "1\n",
      "==========\n",
      "4\n",
      "9\n",
      "16\n",
      "25\n",
      "36\n",
      "49\n",
      "64\n",
      "81\n"
     ]
    },
    {
     "ename": "StopIteration",
     "evalue": "",
     "output_type": "error",
     "traceback": [
      "\u001b[1;31m---------------------------------------------------------------------------\u001b[0m",
      "\u001b[1;31mStopIteration\u001b[0m                             Traceback (most recent call last)",
      "\u001b[1;32m<ipython-input-35-9f535fb1baa5>\u001b[0m in \u001b[0;36m<module>\u001b[1;34m\u001b[0m\n\u001b[0;32m      4\u001b[0m \u001b[0mprint\u001b[0m\u001b[1;33m(\u001b[0m\u001b[1;34m'='\u001b[0m\u001b[1;33m*\u001b[0m\u001b[1;36m10\u001b[0m\u001b[1;33m)\u001b[0m\u001b[1;33m\u001b[0m\u001b[1;33m\u001b[0m\u001b[0m\n\u001b[0;32m      5\u001b[0m \u001b[1;32mfor\u001b[0m \u001b[0mi\u001b[0m \u001b[1;32min\u001b[0m \u001b[0mrange\u001b[0m\u001b[1;33m(\u001b[0m\u001b[1;36m25\u001b[0m\u001b[1;33m)\u001b[0m\u001b[1;33m:\u001b[0m\u001b[1;33m\u001b[0m\u001b[1;33m\u001b[0m\u001b[0m\n\u001b[1;32m----> 6\u001b[1;33m     \u001b[0mprint\u001b[0m\u001b[1;33m(\u001b[0m\u001b[0mnext\u001b[0m\u001b[1;33m(\u001b[0m\u001b[0mg\u001b[0m\u001b[1;33m)\u001b[0m\u001b[1;33m)\u001b[0m\u001b[1;33m\u001b[0m\u001b[1;33m\u001b[0m\u001b[0m\n\u001b[0m",
      "\u001b[1;31mStopIteration\u001b[0m: "
     ]
    }
   ],
   "source": [
    "# next(g) 每次执行顺序打印一个,只能遍历一次\n",
    "print(next(g))\n",
    "print(next(g))\n",
    "print('='*10)\n",
    "for i in range(25):\n",
    "    print(next(g))"
   ]
  },
  {
   "cell_type": "markdown",
   "metadata": {},
   "source": [
    "### generator 保存的是算法，即函数\n",
    "- 每次调用next()就计算下一个元素的值，直到计算到最后一个元素，没有更多元素时，抛出StopIteration的错误。\n",
    "### generator的调用顺序\n",
    "- 函数是顺序执行，遇到return语句或者最后一行函数语句就返回。\n",
    "- generator函数在每次调用next()的时候执行，遇到yield就返回一个值，下次调用再从yield处开始。\n"
   ]
  },
  {
   "cell_type": "code",
   "execution_count": 58,
   "metadata": {},
   "outputs": [
    {
     "name": "stdout",
     "output_type": "stream",
     "text": [
      "<generator object odd at 0x000000000547FD58>\n",
      "1\n",
      "1\n",
      "1\n",
      "1\n",
      "3\n",
      "5\n"
     ]
    },
    {
     "ename": "StopIteration",
     "evalue": "",
     "output_type": "error",
     "traceback": [
      "\u001b[1;31m---------------------------------------------------------------------------\u001b[0m",
      "\u001b[1;31mStopIteration\u001b[0m                             Traceback (most recent call last)",
      "\u001b[1;32m<ipython-input-58-96dc3beff312>\u001b[0m in \u001b[0;36m<module>\u001b[1;34m\u001b[0m\n\u001b[0;32m     17\u001b[0m \u001b[0mgenerator_obj\u001b[0m \u001b[1;33m=\u001b[0m \u001b[0modd\u001b[0m\u001b[1;33m(\u001b[0m\u001b[1;33m)\u001b[0m\u001b[1;33m\u001b[0m\u001b[1;33m\u001b[0m\u001b[0m\n\u001b[0;32m     18\u001b[0m \u001b[1;32mfor\u001b[0m \u001b[0mi\u001b[0m \u001b[1;32min\u001b[0m \u001b[0mrange\u001b[0m\u001b[1;33m(\u001b[0m\u001b[1;36m6\u001b[0m\u001b[1;33m)\u001b[0m\u001b[1;33m:\u001b[0m\u001b[1;33m\u001b[0m\u001b[1;33m\u001b[0m\u001b[0m\n\u001b[1;32m---> 19\u001b[1;33m     \u001b[0mprint\u001b[0m\u001b[1;33m(\u001b[0m\u001b[0mnext\u001b[0m\u001b[1;33m(\u001b[0m\u001b[0mgenerator_obj\u001b[0m\u001b[1;33m)\u001b[0m\u001b[1;33m)\u001b[0m\u001b[1;33m\u001b[0m\u001b[1;33m\u001b[0m\u001b[0m\n\u001b[0m\u001b[0;32m     20\u001b[0m \u001b[1;33m\u001b[0m\u001b[0m\n",
      "\u001b[1;31mStopIteration\u001b[0m: "
     ]
    }
   ],
   "source": [
    "# 最简单的generator\n",
    "def odd():\n",
    "    yield 1\n",
    "    yield 3\n",
    "    yield 5\n",
    "print(odd())\n",
    "\n",
    "'''\n",
    "实际上是先生成了一个对象：generator_obj = odd()\n",
    "然后才用：next(generator_obj)不断的调用并获得下一个返回值\n",
    "执行3次yield后，已经没有yield可以执行了，如果在调用odd()就要报错\n",
    "'''\n",
    "print(next(odd()))\n",
    "print(next(odd()))\n",
    "print(next(odd()))\n",
    "\n",
    "generator_obj = odd()\n",
    "for i in range(6):\n",
    "    print(next(generator_obj))\n",
    "    \n"
   ]
  },
  {
   "cell_type": "code",
   "execution_count": 64,
   "metadata": {},
   "outputs": [
    {
     "name": "stdout",
     "output_type": "stream",
     "text": [
      "1\n",
      "1\n",
      "2\n",
      "3\n",
      "5\n"
     ]
    }
   ],
   "source": [
    "'''斐波拉契数列（Fibonacci）生成器构建\n",
    "除第一个和第二个数外，任意一个数都可由前两个数相加得到：\n",
    "1, 1, 2, 3, 5, 8, 13, 21, 34, ...\n",
    "\n",
    "# 注意：n, x, y = 0, 0, 1\n",
    "相当于：t = (y, x + y)  # t是一个tuple\n",
    "            x = t[0]\n",
    "            y = t[1]\n",
    "\n",
    "'''\n",
    "# 打印前 num 位斐波拉契数列\n",
    "def fib(num):\n",
    "    n, x, y = 0, 0, 1\n",
    "    while n < num:\n",
    "        yield y\n",
    "        x,y = y, (x + y)\n",
    "        n += 1\n",
    "    return 'done'\n",
    "\n",
    "for i in fib(5):\n",
    "    print(i)\n",
    "    \n"
   ]
  },
  {
   "cell_type": "code",
   "execution_count": 67,
   "metadata": {},
   "outputs": [
    {
     "name": "stdout",
     "output_type": "stream",
     "text": [
      "1\n",
      "1\n",
      "2\n",
      "3\n",
      "5\n",
      "8\n",
      "生成器fib()的return： done\n"
     ]
    }
   ],
   "source": [
    "'''这里发现拿不到fib()的return返回值\n",
    "如果一定要拿，就要捕获StopIteration错误，返回值包含在StopIteration错误e的值velue里\n",
    "'''\n",
    "g = fib(6)\n",
    "while True:\n",
    "    try:\n",
    "        x = next(g)\n",
    "        print(x)\n",
    "    except StopIteration as e:\n",
    "        print(\"生成器fib()的return：\",e)\n",
    "        break"
   ]
  },
  {
   "cell_type": "code",
   "execution_count": 1,
   "metadata": {},
   "outputs": [
    {
     "name": "stdout",
     "output_type": "stream",
     "text": [
      "[1]\n",
      "[1, 1]\n",
      "[1, 2, 1]\n",
      "[1, 3, 3, 1]\n",
      "[1, 4, 6, 4, 1]\n",
      "[1, 5, 10, 10, 5, 1]\n",
      "[1, 6, 15, 20, 15, 6, 1]\n",
      "[1, 7, 21, 35, 35, 21, 7, 1]\n",
      "[1, 8, 28, 56, 70, 56, 28, 8, 1]\n",
      "[1, 9, 36, 84, 126, 126, 84, 36, 9, 1]\n",
      "[1, 10, 45, 120, 210, 252, 210, 120, 45, 10, 1]\n"
     ]
    }
   ],
   "source": [
    "# 杨辉三角定义如下：\n",
    "# 递增生成max行数组，数组长度等于行数\n",
    "# 每一行的数组包含一组规律数字，\n",
    "# 数组左右两边元素镜像相等，基数长度，有唯一最大数\n",
    "\n",
    "def triangles(max):\n",
    "    line = [1]\n",
    "    time = 0\n",
    "    while time <= max:\n",
    "        yield(line.copy())\n",
    "        for i in range(len(line)-1, 0, -1):\n",
    "            line[i] += line[i-1]\n",
    "        line.append(1)\n",
    "        time += 1\n",
    "\n",
    "# 以下是测试代码       \n",
    "\n",
    "for t in triangles(10):\n",
    "    print(t)\n"
   ]
  },
  {
   "cell_type": "markdown",
   "metadata": {},
   "source": [
    "# 迭代器 Iterable\n",
    "- 可以被for-in直接循环遍历的数据类型有两类：\n",
    "    - 集合型数据：如list、tuple、dict、set、str等\n",
    "    - 生成器generator:包括生成器和带yield的 generator function\n",
    "    - 这些对象的统称为可迭代对象Iterable\n",
    "- Iterator甚至可以表示一个无限大的数据流，例如全体自然数。而使用list是永远不可能存储全体自然数的。"
   ]
  },
  {
   "cell_type": "code",
   "execution_count": 13,
   "metadata": {},
   "outputs": [
    {
     "name": "stdout",
     "output_type": "stream",
     "text": [
      "True\n",
      "True\n",
      "True\n",
      "True\n",
      "False\n",
      "True\n",
      "True\n"
     ]
    }
   ],
   "source": [
    "from collections import Iterable\n",
    "\n",
    "# 导入集合包\n",
    "# 可以使用isinstance()判断一个对象是否是Iterable对象：\n",
    "print(isinstance([], Iterable))\n",
    "print(isinstance({}, Iterable))\n",
    "print(isinstance('abc', Iterable))\n",
    "print(isinstance((x for x in range(10)), Iterable))\n",
    "print(isinstance(100, Iterable))\n",
    "\n",
    "# 把list、dict、str等Iterable变成Iterator可以使用iter()函数：\n",
    "print(isinstance(iter([]), Iterable))\n",
    "print(isinstance(iter('abc'), Iterable))"
   ]
  },
  {
   "cell_type": "markdown",
   "metadata": {},
   "source": [
    "- 凡是可作用于for循环的对象都是Iterable类型；\n",
    "- 凡是可作用于next()函数的对象都是Iterator类型，它们表示一个惰性计算的序列；\n",
    "- 集合数据类型如list、dict、str等是Iterable但不是Iterator，不过可以通过iter()函数获得一个Iterator对象。\n",
    "- Python的for循环本质上就是通过不断调用next()函数实现的"
   ]
  },
  {
   "cell_type": "code",
   "execution_count": null,
   "metadata": {},
   "outputs": [],
   "source": []
  }
 ],
 "metadata": {
  "kernelspec": {
   "display_name": "Python 3",
   "language": "python",
   "name": "python3"
  },
  "language_info": {
   "codemirror_mode": {
    "name": "ipython",
    "version": 3
   },
   "file_extension": ".py",
   "mimetype": "text/x-python",
   "name": "python",
   "nbconvert_exporter": "python",
   "pygments_lexer": "ipython3",
   "version": "3.6.7"
  }
 },
 "nbformat": 4,
 "nbformat_minor": 2
}
